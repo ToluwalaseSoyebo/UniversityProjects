{
 "cells": [
  {
   "cell_type": "code",
   "execution_count": 1,
   "id": "8e50bd21",
   "metadata": {},
   "outputs": [],
   "source": [
    "#pip install -U scikit-learn"
   ]
  },
  {
   "cell_type": "code",
   "execution_count": 2,
   "id": "f33a8ea9",
   "metadata": {},
   "outputs": [],
   "source": [
    "import pandas as pd\n",
    "import matplotlib.pyplot as plt\n",
    "import numpy as np\n",
    "import datetime\n",
    "\n",
    "#needed for openai gym environment\n",
    "import gym\n",
    "import gym_anytrading\n",
    "\n",
    "#needed for reinforcement learning algorithms\n",
    "\n",
    "from stable_baselines3.common.vec_env import DummyVecEnv\n",
    "from stable_baselines3 import DQN\n",
    "from stable_baselines3 import PPO\n",
    "\n",
    "from sklearn.model_selection import ParameterGrid\n"
   ]
  },
  {
   "cell_type": "code",
   "execution_count": 3,
   "id": "f1151491",
   "metadata": {},
   "outputs": [],
   "source": [
    "googl_df = pd.read_csv('GOOGL.csv')\n",
    "googl_df = googl_df.drop(columns=['Dividends', 'Stock Splits'])\n",
    "googl_df['N_date'] = googl_df['Date'].str[:10]\n",
    "googl_df['N_date'] = pd.to_datetime(googl_df['N_date'])\n",
    "googl_df = googl_df.drop(columns=['Date'])"
   ]
  },
  {
   "cell_type": "code",
   "execution_count": 4,
   "id": "035c8cdb",
   "metadata": {
    "scrolled": true
   },
   "outputs": [
    {
     "data": {
      "text/html": [
       "<div>\n",
       "<style scoped>\n",
       "    .dataframe tbody tr th:only-of-type {\n",
       "        vertical-align: middle;\n",
       "    }\n",
       "\n",
       "    .dataframe tbody tr th {\n",
       "        vertical-align: top;\n",
       "    }\n",
       "\n",
       "    .dataframe thead th {\n",
       "        text-align: right;\n",
       "    }\n",
       "</style>\n",
       "<table border=\"1\" class=\"dataframe\">\n",
       "  <thead>\n",
       "    <tr style=\"text-align: right;\">\n",
       "      <th></th>\n",
       "      <th>Open</th>\n",
       "      <th>High</th>\n",
       "      <th>Low</th>\n",
       "      <th>Close</th>\n",
       "      <th>Volume</th>\n",
       "    </tr>\n",
       "    <tr>\n",
       "      <th>Date</th>\n",
       "      <th></th>\n",
       "      <th></th>\n",
       "      <th></th>\n",
       "      <th></th>\n",
       "      <th></th>\n",
       "    </tr>\n",
       "  </thead>\n",
       "  <tbody>\n",
       "    <tr>\n",
       "      <th>2004-08-19</th>\n",
       "      <td>2.502503</td>\n",
       "      <td>2.604104</td>\n",
       "      <td>2.401401</td>\n",
       "      <td>2.511011</td>\n",
       "      <td>893181924</td>\n",
       "    </tr>\n",
       "    <tr>\n",
       "      <th>2004-08-20</th>\n",
       "      <td>2.527778</td>\n",
       "      <td>2.729730</td>\n",
       "      <td>2.515015</td>\n",
       "      <td>2.710460</td>\n",
       "      <td>456686856</td>\n",
       "    </tr>\n",
       "    <tr>\n",
       "      <th>2004-08-23</th>\n",
       "      <td>2.771522</td>\n",
       "      <td>2.839840</td>\n",
       "      <td>2.728979</td>\n",
       "      <td>2.737738</td>\n",
       "      <td>365122512</td>\n",
       "    </tr>\n",
       "    <tr>\n",
       "      <th>2004-08-24</th>\n",
       "      <td>2.783784</td>\n",
       "      <td>2.792793</td>\n",
       "      <td>2.591842</td>\n",
       "      <td>2.624374</td>\n",
       "      <td>304946748</td>\n",
       "    </tr>\n",
       "    <tr>\n",
       "      <th>2004-08-25</th>\n",
       "      <td>2.626627</td>\n",
       "      <td>2.702703</td>\n",
       "      <td>2.599600</td>\n",
       "      <td>2.652653</td>\n",
       "      <td>183772044</td>\n",
       "    </tr>\n",
       "  </tbody>\n",
       "</table>\n",
       "</div>"
      ],
      "text/plain": [
       "                Open      High       Low     Close     Volume\n",
       "Date                                                         \n",
       "2004-08-19  2.502503  2.604104  2.401401  2.511011  893181924\n",
       "2004-08-20  2.527778  2.729730  2.515015  2.710460  456686856\n",
       "2004-08-23  2.771522  2.839840  2.728979  2.737738  365122512\n",
       "2004-08-24  2.783784  2.792793  2.591842  2.624374  304946748\n",
       "2004-08-25  2.626627  2.702703  2.599600  2.652653  183772044"
      ]
     },
     "execution_count": 4,
     "metadata": {},
     "output_type": "execute_result"
    }
   ],
   "source": [
    "googl_df.rename(columns = {'N_date':'Date'}, inplace=True)\n",
    "googl_df.set_index('Date', inplace=True)\n",
    "googl_df.head()"
   ]
  },
  {
   "cell_type": "code",
   "execution_count": 5,
   "id": "bd68eaeb",
   "metadata": {},
   "outputs": [],
   "source": [
    "googl_maker = lambda: gym.make('stocks-v0', df=googl_df, frame_bound=(700,3500), window_size=30)\n",
    "# can try this with other types of enivornment not just the DummyVec\n",
    "googl_env = DummyVecEnv([googl_maker])"
   ]
  },
  {
   "cell_type": "markdown",
   "id": "6d543502",
   "metadata": {},
   "source": [
    "### Hypertuning for DQN -"
   ]
  },
  {
   "cell_type": "code",
   "execution_count": 6,
   "id": "4c5dce73",
   "metadata": {},
   "outputs": [
    {
     "name": "stdout",
     "output_type": "stream",
     "text": [
      "Using cpu device\n",
      "----------------------------------\n",
      "| rollout/            |          |\n",
      "|    exploration_rate | 0.05     |\n",
      "| time/               |          |\n",
      "|    episodes         | 4        |\n",
      "|    fps              | 13107    |\n",
      "|    time_elapsed     | 0        |\n",
      "|    total_timesteps  | 11196    |\n",
      "----------------------------------\n",
      "----------------------------------\n",
      "| rollout/            |          |\n",
      "|    exploration_rate | 0.05     |\n",
      "| time/               |          |\n",
      "|    episodes         | 8        |\n",
      "|    fps              | 13311    |\n",
      "|    time_elapsed     | 1        |\n",
      "|    total_timesteps  | 22392    |\n",
      "----------------------------------\n"
     ]
    },
    {
     "data": {
      "text/plain": [
       "<stable_baselines3.dqn.dqn.DQN at 0x2204af15588>"
      ]
     },
     "execution_count": 6,
     "metadata": {},
     "output_type": "execute_result"
    }
   ],
   "source": [
    "dqn_model = DQN('MlpPolicy', googl_env, verbose=1)\n",
    "dqn_model.learn(total_timesteps=25000)"
   ]
  },
  {
   "cell_type": "code",
   "execution_count": 7,
   "id": "186b84b2",
   "metadata": {},
   "outputs": [
    {
     "name": "stdout",
     "output_type": "stream",
     "text": [
      "info {'total_reward': 1.66400146484375, 'total_profit': 1.0539949366332015, 'position': 1}\n"
     ]
    }
   ],
   "source": [
    "googl_env = gym.make('stocks-v0', df=googl_df, frame_bound=(3600,3650), window_size=30)\n",
    "obs = googl_env.reset()\n",
    "while True:\n",
    "    obs = obs[np.newaxis, ...]\n",
    "    action, _states = dqn_model.predict(obs)\n",
    "    obs,rewards, done, info = googl_env.step(action)\n",
    "    if done:\n",
    "        print('info', info)\n",
    "        break"
   ]
  },
  {
   "cell_type": "markdown",
   "id": "8555ed19",
   "metadata": {},
   "source": [
    "### HyperTuning for  PPO"
   ]
  },
  {
   "cell_type": "code",
   "execution_count": 8,
   "id": "a5958713",
   "metadata": {},
   "outputs": [],
   "source": [
    "#ppo_model = PPO('MlpPolicy', googl_env, verbose=1)\n",
    "#ppo_model.learn(total_timesteps=25000)"
   ]
  },
  {
   "cell_type": "code",
   "execution_count": 9,
   "id": "e266d4ad",
   "metadata": {},
   "outputs": [],
   "source": [
    "#googl_env = gym.make('stocks-v0', df=googl_df, frame_bound=(3600,3650), window_size=30)\n",
    "#obs = googl_env.reset()\n",
    "#while True:\n",
    "#    obs = obs[np.newaxis, ...]\n",
    "#    action, _states = ppo_model.predict(obs)\n",
    "#    obs,rewards, done, info = googl_env.step(action)\n",
    "#    if done:\n",
    "#        print('info', info)\n",
    "#        break"
   ]
  },
  {
   "cell_type": "code",
   "execution_count": null,
   "id": "c7f4411b",
   "metadata": {},
   "outputs": [],
   "source": []
  }
 ],
 "metadata": {
  "kernelspec": {
   "display_name": "Python 3 (ipykernel)",
   "language": "python",
   "name": "python3"
  },
  "language_info": {
   "codemirror_mode": {
    "name": "ipython",
    "version": 3
   },
   "file_extension": ".py",
   "mimetype": "text/x-python",
   "name": "python",
   "nbconvert_exporter": "python",
   "pygments_lexer": "ipython3",
   "version": "3.7.16"
  }
 },
 "nbformat": 4,
 "nbformat_minor": 5
}
